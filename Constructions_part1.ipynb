{
 "cells": [
  {
   "cell_type": "markdown",
   "id": "46d87fe3",
   "metadata": {},
   "source": [
    "# Задание 1"
   ]
  },
  {
   "cell_type": "code",
   "execution_count": null,
   "id": "0be80a2e",
   "metadata": {},
   "outputs": [],
   "source": [
    "word = str(input('Введите слово '))\n",
    "\n",
    "if int((len(word))%2) == 0:\n",
    "    print ('Количество букв чётное')\n",
    "    print (word[int(len(word)/2)-1 : int(len(word)/2)+1])\n",
    "else:\n",
    "    print ('Количество букв нечётное')\n",
    "    print (word[int(len(word)/2)])\n"
   ]
  },
  {
   "cell_type": "markdown",
   "id": "0939c7e9",
   "metadata": {},
   "source": [
    "# Задание 2"
   ]
  },
  {
   "cell_type": "code",
   "execution_count": null,
   "id": "0979bd3a",
   "metadata": {},
   "outputs": [],
   "source": [
    "user_sum = 0\n",
    "\n",
    "while True:\n",
    "    user_num = int(input('Введите число '))\n",
    "    if user_num == 0:\n",
    "        print (user_sum)\n",
    "        break\n",
    "        \n",
    "    user_sum += user_num\n"
   ]
  },
  {
   "cell_type": "markdown",
   "id": "01156726",
   "metadata": {},
   "source": [
    "# Задание 3"
   ]
  },
  {
   "cell_type": "code",
   "execution_count": null,
   "id": "a40898a3",
   "metadata": {
    "scrolled": true
   },
   "outputs": [],
   "source": [
    "boys = ['Peter', 'Alex', 'John', 'Arthur', 'Richard']\n",
    "girls = ['Kate', 'Liza', 'Kira', 'Emma', 'Trisha']\n",
    "list.sort(boys)\n",
    "list.sort(girls)\n",
    "\n",
    "if (len(boys)) == (len(girls)):\n",
    "    boys_and_girls = zip(boys, girls)\n",
    "    print ('Идеальные пары:')\n",
    "    for i, pairs in enumerate(boys_and_girls):\n",
    "        print (pairs[0], 'и', pairs[1])\n",
    "else:     \n",
    "        print ('Кто-то может остаться без пары!')"
   ]
  },
  {
   "cell_type": "markdown",
   "id": "993cbf3e",
   "metadata": {},
   "source": [
    "# Задание 4"
   ]
  },
  {
   "cell_type": "code",
   "execution_count": null,
   "id": "973a3355",
   "metadata": {},
   "outputs": [],
   "source": [
    "countries_temperature = [\n",
    "    ['Thailand', [75.2, 77, 78.8, 73.4, 68, 75.2, 77]],\n",
    "    ['Germany', [57.2, 55.4, 59, 59, 53.6]],\n",
    "    ['Russia', [35.6, 37.4, 39.2, 41, 42.8, 39.2, 35.6]],\n",
    "    ['Poland', [50, 50, 53.6, 57.2, 55.4, 55.4]]\n",
    "]\n",
    "\n",
    "for el in countries_temperature:\n",
    "    print (el[0], '—', round ((sum(el[1]) / len(el[1]) - 32) / 1.8, 1), 'C°' )\n"
   ]
  },
  {
   "cell_type": "markdown",
   "id": "2c61cf6d",
   "metadata": {},
   "source": [
    "# Задание 5"
   ]
  },
  {
   "cell_type": "code",
   "execution_count": 31,
   "id": "0816ea15",
   "metadata": {
    "scrolled": true
   },
   "outputs": [
    {
     "name": "stdout",
     "output_type": "stream",
     "text": [
      "Cреднее значение просмотров на пользователя: 23.25\n"
     ]
    }
   ],
   "source": [
    "stream = [\n",
    "    '2018-01-01,user1,3',\n",
    "    '2018-01-07,user1,4',\n",
    "    '2018-03-29,user1,1',\n",
    "    '2018-04-04,user1,13',\n",
    "    '2018-01-05,user2,7',\n",
    "    '2018-06-14,user3,4',\n",
    "    '2018-07-02,user3,10',\n",
    "    '2018-03-21,user4,19',\n",
    "    '2018-03-22,user4,4',\n",
    "    '2018-04-22,user4,8',\n",
    "    '2018-05-03,user4,9',\n",
    "    '2018-05-11,user4,11',\n",
    "]\n",
    "\n",
    "views = 0\n",
    "users = []\n",
    "\n",
    "for line in stream:\n",
    "    divided = line.split(',')\n",
    "    if divided[1] not in users:\n",
    "        users.append(divided[1])\n",
    "\n",
    "\n",
    "for line in stream:\n",
    "    divided = line.split(',')\n",
    "    views += int(divided[2])\n",
    "    \n",
    "print('Cреднее значение просмотров на пользователя:',round(views/len(users),2))\n",
    "    \n"
   ]
  }
 ],
 "metadata": {
  "kernelspec": {
   "display_name": "Python 3",
   "language": "python",
   "name": "python3"
  },
  "language_info": {
   "codemirror_mode": {
    "name": "ipython",
    "version": 3
   },
   "file_extension": ".py",
   "mimetype": "text/x-python",
   "name": "python",
   "nbconvert_exporter": "python",
   "pygments_lexer": "ipython3",
   "version": "3.8.8"
  }
 },
 "nbformat": 4,
 "nbformat_minor": 5
}
