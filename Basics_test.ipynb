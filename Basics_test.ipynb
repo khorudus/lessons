{
 "cells": [
  {
   "cell_type": "markdown",
   "id": "73601cc1",
   "metadata": {},
   "source": [
    "# Задание 1"
   ]
  },
  {
   "cell_type": "code",
   "execution_count": null,
   "id": "b88b5624",
   "metadata": {},
   "outputs": [],
   "source": [
    "phrase_1 = str(input('Введите строку 1 '))\n",
    "phrase_2 = str(input('Введите строку 2 '))\n",
    "\n",
    "if len(phrase_1) > len(phrase_2):\n",
    "    phrase_dif = len(phrase_1) - len(phrase_2)\n",
    "    print ('Фраза 1 длиннее фразы 2 на',phrase_dif, 'симв.')\n",
    "elif len(phrase_1) < len(phrase_2):\n",
    "    phrase_dif = len(phrase_2) - len(phrase_1)\n",
    "    print ('Фраза 2 длиннее фразы 1 на',phrase_dif, 'симв.')\n",
    "else:\n",
    "    print ('Фразу равной длины', len(phrase_1), 'симв.')"
   ]
  },
  {
   "cell_type": "markdown",
   "id": "94599e40",
   "metadata": {},
   "source": [
    "# Задание 2"
   ]
  },
  {
   "cell_type": "code",
   "execution_count": null,
   "id": "bc5d0e8f",
   "metadata": {},
   "outputs": [],
   "source": [
    "year = int(input('Введите год '))\n",
    "if (year % 4 == 0) and (year % 100 != 0) or (year % 400 == 0):\n",
    "    print (year, ' год является високосным годом')\n",
    "else: \n",
    "    print (year, 'год не является високосным годом')"
   ]
  },
  {
   "cell_type": "markdown",
   "id": "b5a183e4",
   "metadata": {},
   "source": [
    "# Задание 3"
   ]
  },
  {
   "cell_type": "code",
   "execution_count": null,
   "id": "f380d6f4",
   "metadata": {},
   "outputs": [],
   "source": [
    "day=int(input(\"Введите день рождения:\"))\n",
    "\n",
    "if day > 31:\n",
    "    print ('Введите правильное число')\n",
    "    assert(False)\n",
    "    \n",
    "month=str(input(\"Введите месяц рождения: \"))\n",
    "\n",
    "if month.lower() == ('январь'):\n",
    "    month_num = 1\n",
    "elif month.lower() == ('февраль'):\n",
    "    month_num = 2\n",
    "elif month.lower() == ('март'):\n",
    "    month_num = 3\n",
    "elif month.lower() == ('апрель'):\n",
    "    month_num = 4\n",
    "elif month.lower() == ('май'):\n",
    "    month_num = 5\n",
    "elif month.lower() == ('июнь'):\n",
    "    month_num = 6\n",
    "elif month.lower() == ('июль'):\n",
    "    month_num = 7\n",
    "elif month.lower() == ('август'):\n",
    "    month_num = 8\n",
    "elif month.lower() == ('сентябрь'):\n",
    "    month_num = 9\n",
    "elif month.lower() == ('октябрь'):\n",
    "    month_num = 10\n",
    "elif month.lower() == ('ноябрь'):\n",
    "    month_num = 11\n",
    "elif month.lower() == ('декабрь'):\n",
    "    month_num = 12\n",
    "else: \n",
    "    print('Такого месяца не существует, попробуйте еще раз')\n",
    "    assert(False)\n",
    "\n",
    "if (day>=21 and day<=31 and month_num==3) or(month_num==4 and day>=1 and day<=19):\n",
    "    print ('Овен')\n",
    "elif (day>=20 and day<=30 and month_num==4) or(month_num==5 and day>=1 and day<=20):\n",
    "    print ('Телец')\n",
    "elif (day>=21 and day<=31 and month_num==5) or(month_num==6 and day>=1 and date<=21):\n",
    "    print('Близнецы')\n",
    "elif (day>=22 and day<=30 and month_num==6) or(month_num==7 and day>=1 and day<=22):\n",
    "    print('Рак')\n",
    "elif (day>=23 and day<=31 and month_num==7) or(month_num==8 and day>=1 and day<=22):\n",
    "    print('Лев')\n",
    "elif (day>=23 and day<=31 and month_num==8) or(month_num==9 and day>=1 and day<=22):\n",
    "    print('Дева')\n",
    "elif (day>=23 and day<=30 and month_num==9) or(month_num==10 and day>=1 and day<=23):\n",
    "    print('Весы')\n",
    "elif (day>=24 and day<=31 and month_num==10) or(month_num==11 and day>=1 and day<=22):\n",
    "    print('Скорпион')\n",
    "elif (day>=23 and day<=30 and month_num==11) or(month_num==12 and day>=1 and day<=21):\n",
    "    print('Стрелец')\n",
    "elif (day>=22 and day<=31 and month_num==12) or(month_num==1 and day>=1 and day<=20):\n",
    "    print('Козерог')\n",
    "elif (day>=21 and day<=31 and month_num==1) or(month_num==2 and day>=1 and day<=18):\n",
    "    print('Водолей')\n",
    "elif (day>=19 and day<=29 and month_num==2) or(month_num==3 and day>=1 and day<=20):\n",
    "    print('Рыбы')\n"
   ]
  },
  {
   "cell_type": "markdown",
   "id": "509d18b6",
   "metadata": {},
   "source": [
    "# Задание 4"
   ]
  },
  {
   "cell_type": "code",
   "execution_count": null,
   "id": "3b137b2d",
   "metadata": {},
   "outputs": [],
   "source": [
    "lenght=int(input(\"Введите длину товара: \"))\n",
    "height=int(input(\"Введите высоту рождения: \"))\n",
    "width=int(input(\"Введите ширину товара: \"))\n",
    "\n",
    "if lenght <=15 and height<=15 and width <=15:\n",
    "    print ('Коробка №1')\n",
    "elif (15<lenght<=50) and (15<height<=50) and (15<width<=50):\n",
    "    print ('Коробка №2')\n",
    "elif lenght >=200:\n",
    "    print ('Коробка для лыж')\n",
    "else:\n",
    "    print ('Стандартная коробка №3')"
   ]
  },
  {
   "cell_type": "markdown",
   "id": "aeabe2d3",
   "metadata": {},
   "source": [
    "# Задание 5"
   ]
  },
  {
   "cell_type": "code",
   "execution_count": null,
   "id": "1d47d793",
   "metadata": {},
   "outputs": [],
   "source": [
    "ticket=str(input(\"Введите 6-ти значный номер билета: \"))\n",
    "first_numbers = int(ticket[0])+int(ticket[1])+int(ticket[2])\n",
    "last_numbers = int(ticket[3])+int(ticket[4])+int(ticket[5])\n",
    "if first_numbers == last_numbers:\n",
    "    print ('Ура, счастливый билет!')\n",
    "else:\n",
    "    print ('Может быть в следующий раз повезет :(')"
   ]
  },
  {
   "cell_type": "markdown",
   "id": "e7b43195",
   "metadata": {},
   "source": [
    "# Задание 6"
   ]
  },
  {
   "cell_type": "code",
   "execution_count": 7,
   "id": "6530278e",
   "metadata": {},
   "outputs": [
    {
     "name": "stdout",
     "output_type": "stream",
     "text": [
      "Введите номер фигуры. 1 - прямоугольник, 2 - круг, 3 - треугольник 3\n",
      "Введи сторону a 10\n",
      "Введи сторону b 2\n",
      "Введи сторону c 2\n",
      "Треугольник не существует\n"
     ]
    }
   ],
   "source": [
    "import math\n",
    "from math import sqrt\n",
    "fig_type=int(input(\"Введите номер фигуры. 1 - прямоугольник, 2 - круг, 3 - треугольник \"))\n",
    "if fig_type == 1:\n",
    "    sq_lenght = int(input(\"Введите длину \"))\n",
    "    sq_width = int(input(\"Введите ширину \"))\n",
    "    print (\"Площадь прямоугольника равна\",sq_lenght*sq_width,\"см2\")\n",
    "elif fig_type == 2:\n",
    "    round_radius = int(input(\"Введите радиус \"))\n",
    "    print (round(round_radius**2*math.pi, 1))\n",
    "elif fig_type == 3:  \n",
    "    a = int(input(\"Введи сторону a \"))\n",
    "    b = int(input(\"Введи сторону b \"))\n",
    "    c = int(input(\"Введи сторону c \"))\n",
    "    if a + b > c and a + c > b and b + c > a:\n",
    "        p = (a + b + c) / 2\n",
    "        print (round(sqrt(p * (p - a) * (p - b) * (p - c)), 1))\n",
    "    else:\n",
    "        print (\"Треугольник не существует\")"
   ]
  }
 ],
 "metadata": {
  "kernelspec": {
   "display_name": "Python 3",
   "language": "python",
   "name": "python3"
  },
  "language_info": {
   "codemirror_mode": {
    "name": "ipython",
    "version": 3
   },
   "file_extension": ".py",
   "mimetype": "text/x-python",
   "name": "python",
   "nbconvert_exporter": "python",
   "pygments_lexer": "ipython3",
   "version": "3.8.8"
  }
 },
 "nbformat": 4,
 "nbformat_minor": 5
}
